{
 "cells": [
  {
   "cell_type": "markdown",
   "metadata": {},
   "source": [
    "## Importing the libraries"
   ]
  },
  {
   "cell_type": "code",
   "execution_count": 1,
   "metadata": {},
   "outputs": [],
   "source": [
    "import numpy as np\n",
    "import matplotlib.pyplot as plt\n",
    "import joblib\n",
    "import yaml"
   ]
  },
  {
   "cell_type": "code",
   "execution_count": 2,
   "metadata": {},
   "outputs": [],
   "source": [
    "import torch\n",
    "from torch.utils.data import DataLoader"
   ]
  },
  {
   "cell_type": "code",
   "execution_count": 3,
   "metadata": {},
   "outputs": [
    {
     "name": "stderr",
     "output_type": "stream",
     "text": [
      "[nltk_data] Downloading package punkt to\n",
      "[nltk_data]     C:\\Users\\abhin\\AppData\\Roaming\\nltk_data...\n",
      "[nltk_data]   Package punkt is already up-to-date!\n"
     ]
    }
   ],
   "source": [
    "from dataset_loader import *\n",
    "from word_embed import *\n",
    "from models.attention import *\n",
    "from models.non_attention import *\n",
    "from models.addns import *\n",
    "from train_pred import *"
   ]
  },
  {
   "cell_type": "code",
   "execution_count": 4,
   "metadata": {},
   "outputs": [],
   "source": [
    "import warnings\n",
    "warnings.filterwarnings(\"ignore\")"
   ]
  },
  {
   "cell_type": "markdown",
   "metadata": {},
   "source": [
    "### Converting XML to Txt"
   ]
  },
  {
   "cell_type": "code",
   "execution_count": 5,
   "metadata": {},
   "outputs": [
    {
     "name": "stdout",
     "output_type": "stream",
     "text": [
      "[+] Done\n"
     ]
    },
    {
     "name": "stderr",
     "output_type": "stream",
     "text": [
      "\n",
      "0it [00:00, ?it/s]\n",
      "3044it [00:00, 504682.64it/s]\n"
     ]
    },
    {
     "name": "stdout",
     "output_type": "stream",
     "text": [
      "[+] Done\n"
     ]
    },
    {
     "name": "stderr",
     "output_type": "stream",
     "text": [
      "\n",
      "0it [00:00, ?it/s]\n",
      "800it [00:00, 800439.69it/s]\n"
     ]
    }
   ],
   "source": [
    "!py process_dataset.py --category rest --split train\n",
    "!py process_dataset.py --category rest --split test"
   ]
  },
  {
   "cell_type": "markdown",
   "metadata": {},
   "source": [
    "### Converting Txt to pkl"
   ]
  },
  {
   "cell_type": "code",
   "execution_count": 6,
   "metadata": {},
   "outputs": [
    {
     "name": "stdout",
     "output_type": "stream",
     "text": [
      "Max Context Len  78\n",
      "[+] Data Saved\n",
      "[+] Data Saved\n"
     ]
    },
    {
     "name": "stderr",
     "output_type": "stream",
     "text": [
      "[nltk_data] Downloading package punkt to\n",
      "[nltk_data]     C:\\Users\\abhin\\AppData\\Roaming\\nltk_data...\n",
      "[nltk_data]   Package punkt is already up-to-date!\n"
     ]
    }
   ],
   "source": [
    "!py text_dataset.py --category rest"
   ]
  },
  {
   "cell_type": "markdown",
   "metadata": {},
   "source": [
    "### Load Word Embeddings"
   ]
  },
  {
   "cell_type": "code",
   "execution_count": 7,
   "metadata": {},
   "outputs": [
    {
     "name": "stderr",
     "output_type": "stream",
     "text": [
      "100%|████████████████████████████████████████████████████████████████████████████| 3608/3608 [00:00<00:00, 5497.50it/s]\n",
      "100%|████████████████████████████████████████████████████████████████████████████| 1120/1120 [00:00<00:00, 5670.28it/s]\n",
      "100%|█████████████████████████████████████████████████████████████████████| 2196018/2196018 [02:36<00:00, 14055.96it/s]\n"
     ]
    }
   ],
   "source": [
    "word2id = get_word_info('rest')\n",
    "embed_size = 300\n",
    "word_embeddings = load_word_embeddings(embed_size, word2id)"
   ]
  },
  {
   "cell_type": "markdown",
   "metadata": {},
   "source": [
    "### Preparing Dataset"
   ]
  },
  {
   "cell_type": "code",
   "execution_count": 8,
   "metadata": {},
   "outputs": [],
   "source": [
    "with open('config.yaml', 'r') as f:\n",
    "    config = yaml.safe_load(f)\n",
    "\n",
    "train_store_path = config['rest_train_pkl']\n",
    "test_store_path = config['rest_test_pkl']\n",
    "\n",
    "train_store = joblib.load(train_store_path)\n",
    "test_store = joblib.load(test_store_path)\n",
    "\n",
    "train_dataset = TextDataset(train_store)\n",
    "test_dataset = TextDataset(test_store)"
   ]
  },
  {
   "cell_type": "markdown",
   "metadata": {},
   "source": [
    "### Classification"
   ]
  },
  {
   "cell_type": "code",
   "execution_count": 9,
   "metadata": {},
   "outputs": [],
   "source": [
    "# Hyper Parameters\n",
    "embed_size = 300\n",
    "batch_size = 128\n",
    "epochs = 7\n",
    "hidden_size = 300\n",
    "output_dims = 3\n",
    "learning_rate = 0.001\n",
    "l2_reg_fact = 1e-6\n",
    "clip = 3\n",
    "dropout = 0.5\n",
    "vocab_size = len(word2id)"
   ]
  },
  {
   "cell_type": "code",
   "execution_count": 10,
   "metadata": {},
   "outputs": [],
   "source": [
    "aspects, contexts, _ , _, _ = train_store\n",
    "\n",
    "max_aspect_len = aspects.shape[1]\n",
    "max_context_len = contexts.shape[1]"
   ]
  },
  {
   "cell_type": "code",
   "execution_count": 11,
   "metadata": {},
   "outputs": [],
   "source": [
    "train_loader = DataLoader(dataset = train_dataset, batch_size = batch_size, shuffle = True)\n",
    "test_loader = DataLoader(dataset = test_dataset, batch_size = len(test_dataset), shuffle = False)"
   ]
  },
  {
   "cell_type": "markdown",
   "metadata": {},
   "source": [
    "#### Attention Model"
   ]
  },
  {
   "cell_type": "code",
   "execution_count": 12,
   "metadata": {},
   "outputs": [],
   "source": [
    "attention_model = AttentionModel(embed_size, vocab_size, word_embeddings,\n",
    "                                hidden_size, l2_reg_fact, max_aspect_len, max_context_len, output_dims)"
   ]
  },
  {
   "cell_type": "code",
   "execution_count": 13,
   "metadata": {},
   "outputs": [],
   "source": [
    "attn_model_trainer = Trainer(attention_model, train_loader, test_loader, learning_rate, l2_reg_fact, epochs, clip)"
   ]
  },
  {
   "cell_type": "code",
   "execution_count": 14,
   "metadata": {
    "scrolled": false
   },
   "outputs": [
    {
     "name": "stdout",
     "output_type": "stream",
     "text": [
      "For epoch ==>  1\n",
      "Train Loss ==> 0.9484808999916603 || Val Loss ==> 0.8135884404182434\n",
      "Train Acc ==> 0.6098599137931034 || Val Acc ==> 0.7053571581840515\n",
      "\n",
      "For epoch ==>  2\n",
      "Train Loss ==> 0.7731014510680889 || Val Loss ==> 0.7337866425514221\n",
      "Train Acc ==> 0.7045977004643142 || Val Acc ==> 0.7294642567634583\n",
      "\n",
      "For epoch ==>  3\n",
      "Train Loss ==> 0.6847184505955927 || Val Loss ==> 0.6776189804077148\n",
      "Train Acc ==> 0.7602729891908578 || Val Acc ==> 0.7732143044471741\n",
      "\n",
      "For epoch ==>  4\n",
      "Train Loss ==> 0.6063739513528759 || Val Loss ==> 0.6706105470657349\n",
      "Train Acc ==> 0.8158584763263831 || Val Acc ==> 0.7794642686843872\n",
      "\n",
      "For epoch ==>  5\n",
      "Train Loss ==> 0.5593416403079855 || Val Loss ==> 0.656846284866333\n",
      "Train Acc ==> 0.8442349137931031 || Val Acc ==> 0.7901785612106323\n",
      "\n",
      "For epoch ==>  6\n",
      "Train Loss ==> 0.5282548193273873 || Val Loss ==> 0.6640904545783997\n",
      "Train Acc ==> 0.860488506432237 || Val Acc ==> 0.7857142925262451\n",
      "\n",
      "For epoch ==>  7\n",
      "Train Loss ==> 0.5007600003275378 || Val Loss ==> 0.6561616659164429\n",
      "Train Acc ==> 0.8783584763263831 || Val Acc ==> 0.7919642567634583\n",
      "\n"
     ]
    }
   ],
   "source": [
    "train_losses, val_losses, train_accs, val_accs = attn_model_trainer.train_and_get_losses()"
   ]
  },
  {
   "cell_type": "markdown",
   "metadata": {},
   "source": [
    "##### Loss Plots"
   ]
  },
  {
   "cell_type": "code",
   "execution_count": 27,
   "metadata": {},
   "outputs": [
    {
     "data": {
      "image/png": "[encoded data removed]",
      "text/plain": [
       "<Figure size 432x288 with 1 Axes>"
      ]
     },
     "metadata": {
      "needs_background": "light"
     },
     "output_type": "display_data"
    }
   ],
   "source": [
    "epoch_range = [i for i in range(1, epochs+1)]\n",
    "plt.figure()\n",
    "plt.plot(epoch_range, train_losses, label = 'Train Loss')\n",
    "plt.plot(epoch_range, val_losses, label =' Testing Loss')\n",
    "plt.title(\"Train and Testing Loss v/s Epochs\")\n",
    "plt.legend()\n",
    "plt.show()"
   ]
  },
  {
   "cell_type": "markdown",
   "metadata": {},
   "source": [
    "##### Accuracy Plots"
   ]
  },
  {
   "cell_type": "code",
   "execution_count": 16,
   "metadata": {},
   "outputs": [
    {
     "data": {
      "image/png": "[encoded data removed]",
      "text/plain": [
       "<Figure size 432x288 with 1 Axes>"
      ]
     },
     "metadata": {
      "needs_background": "light"
     },
     "output_type": "display_data"
    }
   ],
   "source": [
    "epoch_range = [i for i in range(1, epochs+1)]\n",
    "plt.figure()\n",
    "plt.plot(epoch_range, train_accs, label = 'Train Accuracy')\n",
    "plt.plot(epoch_range, val_accs, label =' Testing Accuracy')\n",
    "plt.title(\"Train and Testing Accuracy v/s Epochs\")\n",
    "plt.legend()\n",
    "plt.show()"
   ]
  },
  {
   "cell_type": "markdown",
   "metadata": {},
   "source": [
    "##### Save Model"
   ]
  },
  {
   "cell_type": "code",
   "execution_count": 17,
   "metadata": {},
   "outputs": [],
   "source": [
    "torch.save(attention_model, './model_state/rest_attn.pth')"
   ]
  },
  {
   "cell_type": "markdown",
   "metadata": {},
   "source": [
    "##### Load Model"
   ]
  },
  {
   "cell_type": "code",
   "execution_count": 18,
   "metadata": {},
   "outputs": [],
   "source": [
    "attention_model = torch.load('./model_state/rest_attn.pth')"
   ]
  },
  {
   "cell_type": "markdown",
   "metadata": {},
   "source": [
    "##### Visualizing attention"
   ]
  },
  {
   "cell_type": "code",
   "execution_count": 80,
   "metadata": {},
   "outputs": [
    {
     "name": "stdout",
     "output_type": "stream",
     "text": [
      "8\n",
      "[  1 998   7  35 847   4 247   3   0   0   0   0   0   0   0   0   0   0\n",
      "   0   0   0   0   0   0   0   0   0   0   0   0   0   0   0   0   0   0\n",
      "   0   0   0   0   0   0   0   0   0   0   0   0   0   0   0   0   0   0\n",
      "   0   0   0   0   0   0   0   0   0   0   0   0   0   0   0   0   0   0\n",
      "   0   0   0   0   0   0]\n"
     ]
    }
   ],
   "source": [
    "import nltk\n",
    "from nltk.tokenize import word_tokenize\n",
    "\n",
    "aspects, contexts, labels, len_aspects, len_contexts = test_store\n",
    "\n",
    "vis_aspect, vis_context, vis_label, vis_len_aspect, vis_len_context = aspects[130:135], contexts[130:135], labels[130:135], len_aspects[130:135], len_contexts[130:135]\n",
    "\n",
    "vis_file = config['rest_test_dataset_txt']\n",
    "vis_test_file = open(vis_file, 'r')\n",
    "\n",
    "vis_lines = vis_test_file.readlines()\n",
    "lines_read = 0\n",
    "\n",
    "vis_aspect_real= []\n",
    "vis_context_real = []\n",
    "\n",
    "for i in range(390, len(vis_lines), 3):\n",
    "    context = vis_lines[i]\n",
    "    aspect = vis_lines[i+1]\n",
    "    \n",
    "    vis_aspect_real.append(word_tokenize(aspect))\n",
    "    vis_context_real.append(word_tokenize(context))\n",
    "    \n",
    "    lines_read += 1\n",
    "    \n",
    "    if lines_read == 5:\n",
    "        break\n",
    "print(len(vis_context_real[0]))\n",
    "print(vis_context[0])\n",
    "\n",
    "vis_data = (vis_aspect, vis_context, vis_label, vis_len_aspect, vis_len_context)\n",
    "temp_dataset = TextDataset(vis_data)\n",
    "temp_data_loader = DataLoader(dataset = temp_dataset, batch_size = 5, shuffle = False)\n",
    "\n",
    "attention_model.set_attn_store(True)\n",
    "device = torch.device('cpu')\n",
    "\n",
    "attention_model.eval()\n",
    "with torch.no_grad():\n",
    "    for data in temp_data_loader:\n",
    "        asp, con, lab, asp_mask, con_mask = data\n",
    "        asp = asp.to(device)\n",
    "        con = con.to(device)\n",
    "        lab = lab.to(device)\n",
    "        asp_mask = asp_mask.to(device)\n",
    "        con_mask = con_mask.to(device)\n",
    "\n",
    "        store = (asp, con, asp_mask, con_mask)\n",
    "        attention_model(store)\n",
    "\n",
    "con_attn = attention_model.stored_context_attn.clone()\n",
    "asp_attn = attention_model.stored_aspect_attn.clone()\n",
    "\n",
    "con_attn = con_attn.numpy()\n",
    "asp_attn = asp_attn.numpy()\n",
    "\n",
    "con_attn_store = []\n",
    "asp_attn_store = []\n",
    "\n",
    "for i in range(0, len(con_attn)):\n",
    "    con_attn_temp = con_attn[i]\n",
    "    con_attn_temp = con_attn_temp[0:len(vis_context_real[i]) ]\n",
    "    con_attn_store.append(con_attn_temp.tolist())\n",
    "\n",
    "\n",
    "for i in range(0, len(asp_attn)):\n",
    "    asp_attn_temp = asp_attn[i]\n",
    "    asp_attn_temp = asp_attn_temp[0:len(vis_aspect_real[i])]\n",
    "    asp_attn_store.append(asp_attn_temp.tolist())\n",
    "\n",
    "for i in range(0, len(vis_context_real)):\n",
    "    real_op = []\n",
    "    attn_op = []\n",
    "    for item in vis_context_real[i]:\n",
    "        if type(item) == list:\n",
    "            real_op.extend(item)\n",
    "        else:\n",
    "            real_op.append(item)\n",
    "            \n",
    "    for item in con_attn_store[i]:\n",
    "        if type(item) == list:\n",
    "            attn_op.extend(item)\n",
    "        else:\n",
    "            attn_op.append(item)\n",
    "    vis_context_real[i] = real_op\n",
    "    con_attn_store[i] = attn_op\n"
   ]
  },
  {
   "cell_type": "code",
   "execution_count": 81,
   "metadata": {},
   "outputs": [
    {
     "data": {
      "image/png": "[encoded data removed]",
      "text/plain": [
       "<Figure size 936x72 with 1 Axes>"
      ]
     },
     "metadata": {
      "needs_background": "light"
     },
     "output_type": "display_data"
    },
    {
     "data": {
      "image/png": "[encoded data removed]",
      "text/plain": [
       "<Figure size 216x72 with 1 Axes>"
      ]
     },
     "metadata": {
      "needs_background": "light"
     },
     "output_type": "display_data"
    },
    {
     "data": {
      "image/png": "[encoded data removed]",
      "text/plain": [
       "<Figure size 936x72 with 1 Axes>"
      ]
     },
     "metadata": {
      "needs_background": "light"
     },
     "output_type": "display_data"
    },
    {
     "data": {
      "image/png": "[encoded data removed]",
      "text/plain": [
       "<Figure size 216x72 with 1 Axes>"
      ]
     },
     "metadata": {
      "needs_background": "light"
     },
     "output_type": "display_data"
    },
    {
     "data": {
      "image/png": "[encoded data removed]",
      "text/plain": [
       "<Figure size 936x72 with 1 Axes>"
      ]
     },
     "metadata": {
      "needs_background": "light"
     },
     "output_type": "display_data"
    },
    {
     "data": {
      "image/png": "[encoded data removed]",
      "text/plain": [
       "<Figure size 216x72 with 1 Axes>"
      ]
     },
     "metadata": {
      "needs_background": "light"
     },
     "output_type": "display_data"
    },
    {
     "data": {
      "image/png": "[encoded data removed]",
      "text/plain": [
       "<Figure size 936x72 with 1 Axes>"
      ]
     },
     "metadata": {
      "needs_background": "light"
     },
     "output_type": "display_data"
    },
    {
     "data": {
      "image/png": "[encoded data removed]",
      "text/plain": [
       "<Figure size 216x72 with 1 Axes>"
      ]
     },
     "metadata": {
      "needs_background": "light"
     },
     "output_type": "display_data"
    },
    {
     "data": {
      "image/png": "[encoded data removed]",
      "text/plain": [
       "<Figure size 936x72 with 1 Axes>"
      ]
     },
     "metadata": {
      "needs_background": "light"
     },
     "output_type": "display_data"
    },
    {
     "data": {
      "image/png": "[encoded data removed]",
      "text/plain": [
       "<Figure size 216x72 with 1 Axes>"
      ]
     },
     "metadata": {
      "needs_background": "light"
     },
     "output_type": "display_data"
    }
   ],
   "source": [
    "for i in range(0, 5):\n",
    "    plt.figure(figsize = (13, 1))\n",
    "    bot = min(con_attn_store[i])\n",
    "    top = max(con_attn_store[i])\n",
    "    plt.bar(vis_context_real[i],con_attn_store[i], color = 'maroon')\n",
    "    plt.ylabel('Attention')\n",
    "    \n",
    "    plt.ylim(bot,top)\n",
    "    plt.title('Context Attn')\n",
    "    plt.show()\n",
    "    \n",
    "    plt.figure(figsize = (3, 1))\n",
    "    plt.bar(vis_aspect_real[i], asp_attn_store[i], color = 'maroon')\n",
    "    plt.ylabel('Attention')\n",
    "    plt.title('Aspect Attn')\n",
    "    plt.show()\n",
    "    \n",
    "    "
   ]
  },
  {
   "cell_type": "markdown",
   "metadata": {},
   "source": [
    "#### Non-Attention Model"
   ]
  },
  {
   "cell_type": "code",
   "execution_count": 21,
   "metadata": {},
   "outputs": [],
   "source": [
    "non_attention_model = NonAttentionModel(embed_size, vocab_size, word_embeddings,\n",
    "                                hidden_size, l2_reg_fact, max_aspect_len, max_context_len, output_dims)"
   ]
  },
  {
   "cell_type": "code",
   "execution_count": 22,
   "metadata": {},
   "outputs": [],
   "source": [
    "non_attn_model_trainer = Trainer(non_attention_model, train_loader, test_loader, learning_rate/10, l2_reg_fact, epochs, clip)"
   ]
  },
  {
   "cell_type": "code",
   "execution_count": 23,
   "metadata": {},
   "outputs": [
    {
     "name": "stdout",
     "output_type": "stream",
     "text": [
      "For epoch ==>  1\n",
      "Train Loss ==> 1.0600314571939666 || Val Loss ==> 0.9933981895446777\n",
      "Train Acc ==> 0.5793283039125905 || Val Acc ==> 0.6749999761581421\n",
      "\n",
      "For epoch ==>  2\n",
      "Train Loss ==> 0.9708284221846482 || Val Loss ==> 0.8870799541473389\n",
      "Train Acc ==> 0.6254849137931034 || Val Acc ==> 0.6749999761581421\n",
      "\n",
      "For epoch ==>  3\n",
      "Train Loss ==> 0.9466430955919726 || Val Loss ==> 0.879277229309082\n",
      "Train Acc ==> 0.6208153739057739 || Val Acc ==> 0.6749999761581421\n",
      "\n",
      "For epoch ==>  4\n",
      "Train Loss ==> 0.8980053149420639 || Val Loss ==> 0.7902297973632812\n",
      "Train Acc ==> 0.6254849137931034 || Val Acc ==> 0.6749999761581421\n",
      "\n",
      "For epoch ==>  5\n",
      "Train Loss ==> 0.8277150865258842 || Val Loss ==> 0.760632336139679\n",
      "Train Acc ==> 0.6282686788460304 || Val Acc ==> 0.6758928537368775\n",
      "\n",
      "For epoch ==>  6\n",
      "Train Loss ==> 0.8030863897553806 || Val Loss ==> 0.7531311511993408\n",
      "Train Acc ==> 0.6339260064322374 || Val Acc ==> 0.6803571224212647\n",
      "\n",
      "For epoch ==>  7\n",
      "Train Loss ==> 0.7868925805749565 || Val Loss ==> 0.7472059726715088\n",
      "Train Acc ==> 0.652783765052927 || Val Acc ==> 0.7196428418159485\n",
      "\n"
     ]
    }
   ],
   "source": [
    "train_losses, val_losses, train_accs, val_accs = non_attn_model_trainer.train_and_get_losses()"
   ]
  },
  {
   "cell_type": "markdown",
   "metadata": {},
   "source": [
    "##### Loss Plots"
   ]
  },
  {
   "cell_type": "code",
   "execution_count": 24,
   "metadata": {},
   "outputs": [
    {
     "data": {
      "image/png": "[encoded data removed]",
      "text/plain": [
       "<Figure size 432x288 with 1 Axes>"
      ]
     },
     "metadata": {
      "needs_background": "light"
     },
     "output_type": "display_data"
    }
   ],
   "source": [
    "epoch_range = [i for i in range(1, epochs+1)]\n",
    "plt.figure()\n",
    "plt.plot(epoch_range, train_losses, label = 'Train Loss')\n",
    "plt.plot(epoch_range, val_losses, label =' Testing Loss')\n",
    "plt.title(\"Train and Testing Loss v/s Epochs\")\n",
    "plt.legend()\n",
    "plt.show()"
   ]
  },
  {
   "cell_type": "markdown",
   "metadata": {},
   "source": [
    "##### Accuracy Plots"
   ]
  },
  {
   "cell_type": "code",
   "execution_count": 25,
   "metadata": {},
   "outputs": [
    {
     "data": {
      "image/png": "[encoded data removed]",
      "text/plain": [
       "<Figure size 432x288 with 1 Axes>"
      ]
     },
     "metadata": {
      "needs_background": "light"
     },
     "output_type": "display_data"
    }
   ],
   "source": [
    "epoch_range = [i for i in range(1, epochs+1)]\n",
    "plt.figure()\n",
    "plt.plot(epoch_range, train_accs, label = 'Train Accuracy')\n",
    "plt.plot(epoch_range, val_accs, label =' Testing Accuracy')\n",
    "plt.title(\"Train and Testing Accuracy v/s Epochs\")\n",
    "plt.legend()\n",
    "plt.show()"
   ]
  },
  {
   "cell_type": "markdown",
   "metadata": {},
   "source": [
    "##### Save Model"
   ]
  },
  {
   "cell_type": "code",
   "execution_count": 26,
   "metadata": {},
   "outputs": [],
   "source": [
    "torch.save(non_attention_model, './model_state/rest_non_attn.pth')"
   ]
  }
 ],
 "metadata": {
  "kernelspec": {
   "display_name": "Python 3",
   "language": "python",
   "name": "python3"
  },
  "language_info": {
   "codemirror_mode": {
    "name": "ipython",
    "version": 3
   },
   "file_extension": ".py",
   "mimetype": "text/x-python",
   "name": "python",
   "nbconvert_exporter": "python",
   "pygments_lexer": "ipython3",
   "version": "3.8.0"
  }
 },
 "nbformat": 4,
 "nbformat_minor": 4
}
